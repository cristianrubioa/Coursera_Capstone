{
 "cells": [
  {
   "cell_type": "markdown",
   "metadata": {},
   "source": [
    "# Segmenting and Clustering Neighborhoods in Toronto"
   ]
  },
  {
   "cell_type": "markdown",
   "metadata": {},
   "source": [
    "## Part 1"
   ]
  },
  {
   "cell_type": "markdown",
   "metadata": {},
   "source": [
    "### Import necessary Libraries"
   ]
  },
  {
   "cell_type": "code",
   "execution_count": 1,
   "metadata": {},
   "outputs": [
    {
     "name": "stdout",
     "output_type": "stream",
     "text": [
      "Libraries imported.\n"
     ]
    }
   ],
   "source": [
    "import random # library for random number generation\n",
    "import requests # library to handle requests\n",
    "import numpy as np # library for vectorized computation\n",
    "import pandas as pd # library to process data as dataframes\n",
    "\n",
    "from bs4 import BeautifulSoup # library for parsing HTML documents\n",
    "\n",
    "print('Libraries imported.')"
   ]
  },
  {
   "cell_type": "markdown",
   "metadata": {},
   "source": [
    "### Define the corresponding URL"
   ]
  },
  {
   "cell_type": "code",
   "execution_count": 2,
   "metadata": {},
   "outputs": [],
   "source": [
    "# page we are going to be scraping\n",
    "url = requests.get('https://en.wikipedia.org/wiki/List_of_postal_codes_of_Canada:_M').text"
   ]
  },
  {
   "cell_type": "markdown",
   "metadata": {},
   "source": [
    "### Scrape Wikipedia Table"
   ]
  },
  {
   "cell_type": "code",
   "execution_count": 3,
   "metadata": {},
   "outputs": [],
   "source": [
    "# parse the HTML from URL into the BeautifulSoup parse tree format\n",
    "soup = BeautifulSoup(url,'lxml')\n",
    "#print(soup.prettify())\n",
    "\n",
    "# use 'find' function to retrieve instance of tag 'table' and class 'wikitable sortable'\n",
    "table = soup.find('table',{'class':'wikitable sortable'})\n",
    "#table"
   ]
  },
  {
   "cell_type": "markdown",
   "metadata": {},
   "source": [
    "### Loop through the rows"
   ]
  },
  {
   "cell_type": "code",
   "execution_count": 4,
   "metadata": {},
   "outputs": [],
   "source": [
    "# define list to store 'table' data\n",
    "A = []\n",
    "B = []\n",
    "C = []\n",
    "\n",
    "# looping through the rows\n",
    "for row in table.findAll('tr'):\n",
    "    cells = row.findAll('td')\n",
    "    if len(cells) == 3:\n",
    "        A.append(cells[0].find(text=True))\n",
    "        B.append(cells[1].find(text=True))\n",
    "        C.append(cells[2].find(text=True))\n",
    "\n",
    "# remove line breaks        \n",
    "A = [i.strip('\\n') for i in A]\n",
    "B = [i.strip('\\n') for i in B]\n",
    "C = [i.strip('\\n') for i in C]"
   ]
  },
  {
   "cell_type": "markdown",
   "metadata": {},
   "source": [
    "### Transform it into a pandas dataframe"
   ]
  },
  {
   "cell_type": "code",
   "execution_count": 5,
   "metadata": {},
   "outputs": [
    {
     "data": {
      "text/html": [
       "<div>\n",
       "<style scoped>\n",
       "    .dataframe tbody tr th:only-of-type {\n",
       "        vertical-align: middle;\n",
       "    }\n",
       "\n",
       "    .dataframe tbody tr th {\n",
       "        vertical-align: top;\n",
       "    }\n",
       "\n",
       "    .dataframe thead th {\n",
       "        text-align: right;\n",
       "    }\n",
       "</style>\n",
       "<table border=\"1\" class=\"dataframe\">\n",
       "  <thead>\n",
       "    <tr style=\"text-align: right;\">\n",
       "      <th></th>\n",
       "      <th>Postal Code</th>\n",
       "      <th>Borough</th>\n",
       "      <th>Neighborhood</th>\n",
       "    </tr>\n",
       "  </thead>\n",
       "  <tbody>\n",
       "    <tr>\n",
       "      <th>0</th>\n",
       "      <td>M1A</td>\n",
       "      <td>Not assigned</td>\n",
       "      <td>Not assigned</td>\n",
       "    </tr>\n",
       "    <tr>\n",
       "      <th>1</th>\n",
       "      <td>M2A</td>\n",
       "      <td>Not assigned</td>\n",
       "      <td>Not assigned</td>\n",
       "    </tr>\n",
       "    <tr>\n",
       "      <th>2</th>\n",
       "      <td>M3A</td>\n",
       "      <td>North York</td>\n",
       "      <td>Parkwoods</td>\n",
       "    </tr>\n",
       "    <tr>\n",
       "      <th>3</th>\n",
       "      <td>M4A</td>\n",
       "      <td>North York</td>\n",
       "      <td>Victoria Village</td>\n",
       "    </tr>\n",
       "    <tr>\n",
       "      <th>4</th>\n",
       "      <td>M5A</td>\n",
       "      <td>Downtown Toronto</td>\n",
       "      <td>Regent Park, Harbourfront</td>\n",
       "    </tr>\n",
       "  </tbody>\n",
       "</table>\n",
       "</div>"
      ],
      "text/plain": [
       "  Postal Code           Borough               Neighborhood\n",
       "0         M1A      Not assigned               Not assigned\n",
       "1         M2A      Not assigned               Not assigned\n",
       "2         M3A        North York                  Parkwoods\n",
       "3         M4A        North York           Victoria Village\n",
       "4         M5A  Downtown Toronto  Regent Park, Harbourfront"
      ]
     },
     "execution_count": 5,
     "metadata": {},
     "output_type": "execute_result"
    }
   ],
   "source": [
    "df = pd.DataFrame(A, columns=['Postal Code'])\n",
    "df['Borough'] = B\n",
    "df['Neighborhood'] = C\n",
    "\n",
    "df.head()"
   ]
  },
  {
   "cell_type": "markdown",
   "metadata": {},
   "source": [
    "### Identify missing values"
   ]
  },
  {
   "cell_type": "code",
   "execution_count": 6,
   "metadata": {},
   "outputs": [
    {
     "data": {
      "text/html": [
       "<div>\n",
       "<style scoped>\n",
       "    .dataframe tbody tr th:only-of-type {\n",
       "        vertical-align: middle;\n",
       "    }\n",
       "\n",
       "    .dataframe tbody tr th {\n",
       "        vertical-align: top;\n",
       "    }\n",
       "\n",
       "    .dataframe thead th {\n",
       "        text-align: right;\n",
       "    }\n",
       "</style>\n",
       "<table border=\"1\" class=\"dataframe\">\n",
       "  <thead>\n",
       "    <tr style=\"text-align: right;\">\n",
       "      <th></th>\n",
       "      <th>Postal Code</th>\n",
       "      <th>Borough</th>\n",
       "      <th>Neighborhood</th>\n",
       "    </tr>\n",
       "  </thead>\n",
       "  <tbody>\n",
       "    <tr>\n",
       "      <th>0</th>\n",
       "      <td>M3A</td>\n",
       "      <td>North York</td>\n",
       "      <td>Parkwoods</td>\n",
       "    </tr>\n",
       "    <tr>\n",
       "      <th>1</th>\n",
       "      <td>M4A</td>\n",
       "      <td>North York</td>\n",
       "      <td>Victoria Village</td>\n",
       "    </tr>\n",
       "    <tr>\n",
       "      <th>2</th>\n",
       "      <td>M5A</td>\n",
       "      <td>Downtown Toronto</td>\n",
       "      <td>Regent Park, Harbourfront</td>\n",
       "    </tr>\n",
       "    <tr>\n",
       "      <th>3</th>\n",
       "      <td>M6A</td>\n",
       "      <td>North York</td>\n",
       "      <td>Lawrence Manor, Lawrence Heights</td>\n",
       "    </tr>\n",
       "    <tr>\n",
       "      <th>4</th>\n",
       "      <td>M7A</td>\n",
       "      <td>Downtown Toronto</td>\n",
       "      <td>Queen's Park, Ontario Provincial Government</td>\n",
       "    </tr>\n",
       "  </tbody>\n",
       "</table>\n",
       "</div>"
      ],
      "text/plain": [
       "  Postal Code           Borough                                 Neighborhood\n",
       "0         M3A        North York                                    Parkwoods\n",
       "1         M4A        North York                             Victoria Village\n",
       "2         M5A  Downtown Toronto                    Regent Park, Harbourfront\n",
       "3         M6A        North York             Lawrence Manor, Lawrence Heights\n",
       "4         M7A  Downtown Toronto  Queen's Park, Ontario Provincial Government"
      ]
     },
     "execution_count": 6,
     "metadata": {},
     "output_type": "execute_result"
    }
   ],
   "source": [
    "# replace \"Not assigned\" to NaN\n",
    "df.replace(\"Not assigned\", np.nan, inplace=True)\n",
    "\n",
    "# simply drop whole row with NaN in \"Borough\" column\n",
    "df.dropna(subset=[\"Borough\"], axis=0, inplace=True)\n",
    "\n",
    "# reset index, because we droped two rows\n",
    "df.reset_index(drop=True, inplace=True)\n",
    "\n",
    "df.head()"
   ]
  },
  {
   "cell_type": "code",
   "execution_count": 7,
   "metadata": {},
   "outputs": [],
   "source": [
    "df[\"Neighborhood\"].replace(np.nan, df[\"Borough\"], inplace=True)"
   ]
  },
  {
   "cell_type": "code",
   "execution_count": 8,
   "metadata": {},
   "outputs": [
    {
     "data": {
      "text/plain": [
       "(103, 3)"
      ]
     },
     "execution_count": 8,
     "metadata": {},
     "output_type": "execute_result"
    }
   ],
   "source": [
    "df.shape"
   ]
  },
  {
   "cell_type": "markdown",
   "metadata": {},
   "source": [
    "## Part 2"
   ]
  },
  {
   "cell_type": "markdown",
   "metadata": {},
   "source": [
    "### Reading the data set "
   ]
  },
  {
   "cell_type": "code",
   "execution_count": 9,
   "metadata": {},
   "outputs": [
    {
     "data": {
      "text/html": [
       "<div>\n",
       "<style scoped>\n",
       "    .dataframe tbody tr th:only-of-type {\n",
       "        vertical-align: middle;\n",
       "    }\n",
       "\n",
       "    .dataframe tbody tr th {\n",
       "        vertical-align: top;\n",
       "    }\n",
       "\n",
       "    .dataframe thead th {\n",
       "        text-align: right;\n",
       "    }\n",
       "</style>\n",
       "<table border=\"1\" class=\"dataframe\">\n",
       "  <thead>\n",
       "    <tr style=\"text-align: right;\">\n",
       "      <th></th>\n",
       "      <th>Postal Code</th>\n",
       "      <th>Latitude</th>\n",
       "      <th>Longitude</th>\n",
       "    </tr>\n",
       "  </thead>\n",
       "  <tbody>\n",
       "    <tr>\n",
       "      <th>0</th>\n",
       "      <td>M1B</td>\n",
       "      <td>43.806686</td>\n",
       "      <td>-79.194353</td>\n",
       "    </tr>\n",
       "    <tr>\n",
       "      <th>1</th>\n",
       "      <td>M1C</td>\n",
       "      <td>43.784535</td>\n",
       "      <td>-79.160497</td>\n",
       "    </tr>\n",
       "    <tr>\n",
       "      <th>2</th>\n",
       "      <td>M1E</td>\n",
       "      <td>43.763573</td>\n",
       "      <td>-79.188711</td>\n",
       "    </tr>\n",
       "    <tr>\n",
       "      <th>3</th>\n",
       "      <td>M1G</td>\n",
       "      <td>43.770992</td>\n",
       "      <td>-79.216917</td>\n",
       "    </tr>\n",
       "    <tr>\n",
       "      <th>4</th>\n",
       "      <td>M1H</td>\n",
       "      <td>43.773136</td>\n",
       "      <td>-79.239476</td>\n",
       "    </tr>\n",
       "    <tr>\n",
       "      <th>...</th>\n",
       "      <td>...</td>\n",
       "      <td>...</td>\n",
       "      <td>...</td>\n",
       "    </tr>\n",
       "    <tr>\n",
       "      <th>98</th>\n",
       "      <td>M9N</td>\n",
       "      <td>43.706876</td>\n",
       "      <td>-79.518188</td>\n",
       "    </tr>\n",
       "    <tr>\n",
       "      <th>99</th>\n",
       "      <td>M9P</td>\n",
       "      <td>43.696319</td>\n",
       "      <td>-79.532242</td>\n",
       "    </tr>\n",
       "    <tr>\n",
       "      <th>100</th>\n",
       "      <td>M9R</td>\n",
       "      <td>43.688905</td>\n",
       "      <td>-79.554724</td>\n",
       "    </tr>\n",
       "    <tr>\n",
       "      <th>101</th>\n",
       "      <td>M9V</td>\n",
       "      <td>43.739416</td>\n",
       "      <td>-79.588437</td>\n",
       "    </tr>\n",
       "    <tr>\n",
       "      <th>102</th>\n",
       "      <td>M9W</td>\n",
       "      <td>43.706748</td>\n",
       "      <td>-79.594054</td>\n",
       "    </tr>\n",
       "  </tbody>\n",
       "</table>\n",
       "<p>103 rows × 3 columns</p>\n",
       "</div>"
      ],
      "text/plain": [
       "    Postal Code   Latitude  Longitude\n",
       "0           M1B  43.806686 -79.194353\n",
       "1           M1C  43.784535 -79.160497\n",
       "2           M1E  43.763573 -79.188711\n",
       "3           M1G  43.770992 -79.216917\n",
       "4           M1H  43.773136 -79.239476\n",
       "..          ...        ...        ...\n",
       "98          M9N  43.706876 -79.518188\n",
       "99          M9P  43.696319 -79.532242\n",
       "100         M9R  43.688905 -79.554724\n",
       "101         M9V  43.739416 -79.588437\n",
       "102         M9W  43.706748 -79.594054\n",
       "\n",
       "[103 rows x 3 columns]"
      ]
     },
     "execution_count": 9,
     "metadata": {},
     "output_type": "execute_result"
    }
   ],
   "source": [
    "# read 'Geospatial_Coordinates.csv'\n",
    "df_geo = pd.read_csv('Geospatial_Coordinates.csv')\n",
    "df_geo"
   ]
  },
  {
   "cell_type": "markdown",
   "metadata": {},
   "source": [
    "### Add respective lat & lon data"
   ]
  },
  {
   "cell_type": "code",
   "execution_count": 10,
   "metadata": {},
   "outputs": [
    {
     "data": {
      "text/html": [
       "<div>\n",
       "<style scoped>\n",
       "    .dataframe tbody tr th:only-of-type {\n",
       "        vertical-align: middle;\n",
       "    }\n",
       "\n",
       "    .dataframe tbody tr th {\n",
       "        vertical-align: top;\n",
       "    }\n",
       "\n",
       "    .dataframe thead th {\n",
       "        text-align: right;\n",
       "    }\n",
       "</style>\n",
       "<table border=\"1\" class=\"dataframe\">\n",
       "  <thead>\n",
       "    <tr style=\"text-align: right;\">\n",
       "      <th></th>\n",
       "      <th>Postal Code</th>\n",
       "      <th>Borough</th>\n",
       "      <th>Neighborhood</th>\n",
       "      <th>Latitude</th>\n",
       "      <th>Longitude</th>\n",
       "    </tr>\n",
       "  </thead>\n",
       "  <tbody>\n",
       "    <tr>\n",
       "      <th>0</th>\n",
       "      <td>M3A</td>\n",
       "      <td>North York</td>\n",
       "      <td>Parkwoods</td>\n",
       "      <td>43.753259</td>\n",
       "      <td>-79.329656</td>\n",
       "    </tr>\n",
       "    <tr>\n",
       "      <th>1</th>\n",
       "      <td>M4A</td>\n",
       "      <td>North York</td>\n",
       "      <td>Victoria Village</td>\n",
       "      <td>43.725882</td>\n",
       "      <td>-79.315572</td>\n",
       "    </tr>\n",
       "    <tr>\n",
       "      <th>2</th>\n",
       "      <td>M5A</td>\n",
       "      <td>Downtown Toronto</td>\n",
       "      <td>Regent Park, Harbourfront</td>\n",
       "      <td>43.654260</td>\n",
       "      <td>-79.360636</td>\n",
       "    </tr>\n",
       "    <tr>\n",
       "      <th>3</th>\n",
       "      <td>M6A</td>\n",
       "      <td>North York</td>\n",
       "      <td>Lawrence Manor, Lawrence Heights</td>\n",
       "      <td>43.718518</td>\n",
       "      <td>-79.464763</td>\n",
       "    </tr>\n",
       "    <tr>\n",
       "      <th>4</th>\n",
       "      <td>M7A</td>\n",
       "      <td>Downtown Toronto</td>\n",
       "      <td>Queen's Park, Ontario Provincial Government</td>\n",
       "      <td>43.662301</td>\n",
       "      <td>-79.389494</td>\n",
       "    </tr>\n",
       "  </tbody>\n",
       "</table>\n",
       "</div>"
      ],
      "text/plain": [
       "  Postal Code           Borough                                 Neighborhood  \\\n",
       "0         M3A        North York                                    Parkwoods   \n",
       "1         M4A        North York                             Victoria Village   \n",
       "2         M5A  Downtown Toronto                    Regent Park, Harbourfront   \n",
       "3         M6A        North York             Lawrence Manor, Lawrence Heights   \n",
       "4         M7A  Downtown Toronto  Queen's Park, Ontario Provincial Government   \n",
       "\n",
       "    Latitude  Longitude  \n",
       "0  43.753259 -79.329656  \n",
       "1  43.725882 -79.315572  \n",
       "2  43.654260 -79.360636  \n",
       "3  43.718518 -79.464763  \n",
       "4  43.662301 -79.389494  "
      ]
     },
     "execution_count": 10,
     "metadata": {},
     "output_type": "execute_result"
    }
   ],
   "source": [
    "# merge DataFrame by 'PostalCode'\n",
    "df1 = pd.merge(df, df_geo, on='Postal Code')\n",
    "df1.head()"
   ]
  },
  {
   "cell_type": "markdown",
   "metadata": {},
   "source": [
    "## Part 3"
   ]
  },
  {
   "cell_type": "markdown",
   "metadata": {},
   "source": [
    "Reference: DP0701EN-3-3-2-Neighborhoods-New-York-py-v2.0"
   ]
  },
  {
   "cell_type": "markdown",
   "metadata": {},
   "source": [
    "### Get the lat & lot values of Toronto City"
   ]
  },
  {
   "cell_type": "code",
   "execution_count": 11,
   "metadata": {},
   "outputs": [
    {
     "name": "stdout",
     "output_type": "stream",
     "text": [
      "The geograpical coordinate of Toronto City are 43.6534817, -79.3839347.\n"
     ]
    }
   ],
   "source": [
    "from geopy.geocoders import Nominatim # convert an address into latitude and longitude values\n",
    "import folium # map rendering library\n",
    "\n",
    "toronto_data = df1\n",
    "\n",
    "address = 'Toronto, T'\n",
    "\n",
    "geolocator = Nominatim(user_agent=\"ny_explorer\")\n",
    "location = geolocator.geocode(address)\n",
    "latitude = location.latitude\n",
    "longitude = location.longitude\n",
    "print('The geograpical coordinate of Toronto City are {}, {}.'.format(latitude, longitude))"
   ]
  },
  {
   "cell_type": "markdown",
   "metadata": {},
   "source": [
    "### Create a map of Toronto with neighborhoods"
   ]
  },
  {
   "cell_type": "code",
   "execution_count": 12,
   "metadata": {},
   "outputs": [
    {
     "data": {
      "text/html": [
       "<div style=\"width:100%;\"><div style=\"position:relative;width:100%;height:0;padding-bottom:60%;\"><span style=\"color:#565656\">Make this Notebook Trusted to load map: File -> Trust Notebook</span><iframe src=\"about:blank\" style=\"position:absolute;width:100%;height:100%;left:0;top:0;border:none !important;\" data-html=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 onload=\"this.contentDocument.open();this.contentDocument.write(atob(this.getAttribute('data-html')));this.contentDocument.close();\" allowfullscreen webkitallowfullscreen mozallowfullscreen></iframe></div></div>"
      ],
      "text/plain": [
       "<folium.folium.Map at 0x7fbf3a0e7910>"
      ]
     },
     "execution_count": 12,
     "metadata": {},
     "output_type": "execute_result"
    }
   ],
   "source": [
    "# create map of Toronto using latitude and longitude values\n",
    "map_toronto = folium.Map(location=[latitude, longitude], zoom_start=10)\n",
    "\n",
    "# add markers to map\n",
    "for lat, lng, borough, neighborhood in zip(df1['Latitude'], df1['Longitude'], df1['Borough'], df1['Neighborhood']):\n",
    "    label = '{}, {}'.format(neighborhood, borough)\n",
    "    label = folium.Popup(label, parse_html=True)\n",
    "    folium.CircleMarker(\n",
    "        [lat, lng],\n",
    "        radius=5,\n",
    "        popup=label,\n",
    "        color='blue',\n",
    "        fill=True,\n",
    "        fill_color='#3186cc',\n",
    "        fill_opacity=0.7,\n",
    "        parse_html=False).add_to(map_toronto)  \n",
    "    \n",
    "map_toronto"
   ]
  },
  {
   "cell_type": "code",
   "execution_count": 13,
   "metadata": {},
   "outputs": [
    {
     "name": "stdout",
     "output_type": "stream",
     "text": [
      "Your credentails:\n",
      "CLIENT_ID: C0ZCB5W5NRU2MSJONUVHCHWXFLZLZACOL3KTZIN3PGKGPQMS\n",
      "CLIENT_SECRET:MFXMZNNAUGJDMSNBYIKQUZTRA1L5T0LHYNEYMPPUF0OFFS4G\n"
     ]
    }
   ],
   "source": [
    "CLIENT_ID = 'C0ZCB5W5NRU2MSJONUVHCHWXFLZLZACOL3KTZIN3PGKGPQMS' # your Foursquare ID\n",
    "CLIENT_SECRET = 'MFXMZNNAUGJDMSNBYIKQUZTRA1L5T0LHYNEYMPPUF0OFFS4G' # your Foursquare Secret\n",
    "VERSION = '20180605' # Foursquare API version\n",
    "\n",
    "print('Your credentails:')\n",
    "print('CLIENT_ID: ' + CLIENT_ID)\n",
    "print('CLIENT_SECRET:' + CLIENT_SECRET)"
   ]
  },
  {
   "cell_type": "code",
   "execution_count": 14,
   "metadata": {},
   "outputs": [],
   "source": [
    "def getNearbyVenues(names, latitudes, longitudes, radius=500):\n",
    "    \n",
    "    LIMIT = 100 # limit of number of venues returned by Foursquare API\n",
    "\n",
    "    venues_list=[]\n",
    "    for name, lat, lng in zip(names, latitudes, longitudes):\n",
    "        print(name)\n",
    "            \n",
    "        # create the API request URL\n",
    "        url = 'https://api.foursquare.com/v2/venues/explore?&client_id={}&client_secret={}&v={}&ll={},{}&radius={}&limit={}'.format(\n",
    "            CLIENT_ID, \n",
    "            CLIENT_SECRET, \n",
    "            VERSION, \n",
    "            lat, \n",
    "            lng, \n",
    "            radius, \n",
    "            LIMIT)\n",
    "            \n",
    "        # make the GET request\n",
    "        results = requests.get(url).json()[\"response\"]['groups'][0]['items']\n",
    "        \n",
    "        # return only relevant information for each nearby venue\n",
    "        venues_list.append([(\n",
    "            name, \n",
    "            lat, \n",
    "            lng, \n",
    "            v['venue']['name'], \n",
    "            v['venue']['location']['lat'], \n",
    "            v['venue']['location']['lng'],  \n",
    "            v['venue']['categories'][0]['name']) for v in results])\n",
    "\n",
    "    nearby_venues = pd.DataFrame([item for venue_list in venues_list for item in venue_list])\n",
    "    nearby_venues.columns = ['Neighborhood', \n",
    "                  'Neighborhood Latitude', \n",
    "                  'Neighborhood Longitude', \n",
    "                  'Venue', \n",
    "                  'Venue Latitude', \n",
    "                  'Venue Longitude', \n",
    "                  'Venue Category']\n",
    "    \n",
    "    return(nearby_venues)"
   ]
  },
  {
   "cell_type": "code",
   "execution_count": 16,
   "metadata": {},
   "outputs": [
    {
     "name": "stdout",
     "output_type": "stream",
     "text": [
      "Parkwoods\n",
      "Victoria Village\n",
      "Regent Park, Harbourfront\n",
      "Lawrence Manor, Lawrence Heights\n",
      "Queen's Park, Ontario Provincial Government\n",
      "Islington Avenue, Humber Valley Village\n",
      "Malvern, Rouge\n",
      "Don Mills\n",
      "Parkview Hill, Woodbine Gardens\n",
      "Garden District, Ryerson\n",
      "Glencairn\n",
      "West Deane Park, Princess Gardens, Martin Grove, Islington, Cloverdale\n",
      "Rouge Hill, Port Union, Highland Creek\n",
      "Don Mills\n",
      "Woodbine Heights\n",
      "St. James Town\n",
      "Humewood-Cedarvale\n",
      "Eringate, Bloordale Gardens, Old Burnhamthorpe, Markland Wood\n",
      "Guildwood, Morningside, West Hill\n",
      "The Beaches\n",
      "Berczy Park\n",
      "Caledonia-Fairbanks\n",
      "Woburn\n",
      "Leaside\n",
      "Central Bay Street\n",
      "Christie\n",
      "Cedarbrae\n",
      "Hillcrest Village\n",
      "Bathurst Manor, Wilson Heights, Downsview North\n",
      "Thorncliffe Park\n",
      "Richmond, Adelaide, King\n"
     ]
    },
    {
     "ename": "KeyError",
     "evalue": "'groups'",
     "output_type": "error",
     "traceback": [
      "\u001b[0;31m---------------------------------------------------------------------------\u001b[0m",
      "\u001b[0;31mKeyError\u001b[0m                                  Traceback (most recent call last)",
      "\u001b[0;32m<ipython-input-16-3f33c7114d2a>\u001b[0m in \u001b[0;36m<module>\u001b[0;34m\u001b[0m\n\u001b[1;32m      2\u001b[0m toronto_venues = getNearbyVenues(names=toronto_data['Neighborhood'],\n\u001b[1;32m      3\u001b[0m                                    \u001b[0mlatitudes\u001b[0m\u001b[0;34m=\u001b[0m\u001b[0mtoronto_data\u001b[0m\u001b[0;34m[\u001b[0m\u001b[0;34m'Latitude'\u001b[0m\u001b[0;34m]\u001b[0m\u001b[0;34m,\u001b[0m\u001b[0;34m\u001b[0m\u001b[0;34m\u001b[0m\u001b[0m\n\u001b[0;32m----> 4\u001b[0;31m                                    \u001b[0mlongitudes\u001b[0m\u001b[0;34m=\u001b[0m\u001b[0mtoronto_data\u001b[0m\u001b[0;34m[\u001b[0m\u001b[0;34m'Longitude'\u001b[0m\u001b[0;34m]\u001b[0m\u001b[0;34m\u001b[0m\u001b[0;34m\u001b[0m\u001b[0m\n\u001b[0m\u001b[1;32m      5\u001b[0m                                   )\n",
      "\u001b[0;32m<ipython-input-14-85726dd9bdc9>\u001b[0m in \u001b[0;36mgetNearbyVenues\u001b[0;34m(names, latitudes, longitudes, radius)\u001b[0m\n\u001b[1;32m     18\u001b[0m \u001b[0;34m\u001b[0m\u001b[0m\n\u001b[1;32m     19\u001b[0m         \u001b[0;31m# make the GET request\u001b[0m\u001b[0;34m\u001b[0m\u001b[0;34m\u001b[0m\u001b[0;34m\u001b[0m\u001b[0m\n\u001b[0;32m---> 20\u001b[0;31m         \u001b[0mresults\u001b[0m \u001b[0;34m=\u001b[0m \u001b[0mrequests\u001b[0m\u001b[0;34m.\u001b[0m\u001b[0mget\u001b[0m\u001b[0;34m(\u001b[0m\u001b[0murl\u001b[0m\u001b[0;34m)\u001b[0m\u001b[0;34m.\u001b[0m\u001b[0mjson\u001b[0m\u001b[0;34m(\u001b[0m\u001b[0;34m)\u001b[0m\u001b[0;34m[\u001b[0m\u001b[0;34m\"response\"\u001b[0m\u001b[0;34m]\u001b[0m\u001b[0;34m[\u001b[0m\u001b[0;34m'groups'\u001b[0m\u001b[0;34m]\u001b[0m\u001b[0;34m[\u001b[0m\u001b[0;36m0\u001b[0m\u001b[0;34m]\u001b[0m\u001b[0;34m[\u001b[0m\u001b[0;34m'items'\u001b[0m\u001b[0;34m]\u001b[0m\u001b[0;34m\u001b[0m\u001b[0;34m\u001b[0m\u001b[0m\n\u001b[0m\u001b[1;32m     21\u001b[0m \u001b[0;34m\u001b[0m\u001b[0m\n\u001b[1;32m     22\u001b[0m         \u001b[0;31m# return only relevant information for each nearby venue\u001b[0m\u001b[0;34m\u001b[0m\u001b[0;34m\u001b[0m\u001b[0;34m\u001b[0m\u001b[0m\n",
      "\u001b[0;31mKeyError\u001b[0m: 'groups'"
     ]
    }
   ],
   "source": [
    "# run the above function\n",
    "toronto_venues = getNearbyVenues(names=toronto_data['Neighborhood'],\n",
    "                                   latitudes=toronto_data['Latitude'],\n",
    "                                   longitudes=toronto_data['Longitude']\n",
    "                                  )"
   ]
  },
  {
   "cell_type": "markdown",
   "metadata": {},
   "source": [
    "### Let's check the size of the resulting dataframe"
   ]
  },
  {
   "cell_type": "code",
   "execution_count": null,
   "metadata": {},
   "outputs": [],
   "source": [
    "print(toronto_venues.shape)\n",
    "toronto_venues.head()"
   ]
  },
  {
   "cell_type": "markdown",
   "metadata": {},
   "source": [
    "Let's check how many venues were returned for each neighborhood"
   ]
  },
  {
   "cell_type": "code",
   "execution_count": null,
   "metadata": {},
   "outputs": [],
   "source": [
    "toronto_venues.groupby('Neighborhood').count()"
   ]
  },
  {
   "cell_type": "markdown",
   "metadata": {},
   "source": [
    "Let's find out how many unique categories can be curated from all the returned venues"
   ]
  },
  {
   "cell_type": "code",
   "execution_count": null,
   "metadata": {},
   "outputs": [],
   "source": [
    "print('There are {} uniques categories.'.format(len(toronto_venues['Venue Category'].unique())))"
   ]
  },
  {
   "cell_type": "markdown",
   "metadata": {},
   "source": [
    "### Analyze Each Neighborhood"
   ]
  },
  {
   "cell_type": "code",
   "execution_count": null,
   "metadata": {},
   "outputs": [],
   "source": [
    "# one hot encoding\n",
    "toronto_onehot = pd.get_dummies(toronto_venues[['Venue Category']], prefix=\"\", prefix_sep=\"\")\n",
    "\n",
    "# add neighborhood column back to dataframe\n",
    "toronto_onehot['Neighborhood'] = toronto_venues['Neighborhood'] \n",
    "\n",
    "# move neighborhood column to the first column\n",
    "fixed_columns = [toronto_onehot.columns[-1]] + list(toronto_onehot.columns[:-1])\n",
    "toronto_onehot = toronto_onehot[fixed_columns]\n",
    "\n",
    "toronto_onehot.head()"
   ]
  },
  {
   "cell_type": "code",
   "execution_count": null,
   "metadata": {},
   "outputs": [],
   "source": [
    "toronto_onehot.shape"
   ]
  },
  {
   "cell_type": "markdown",
   "metadata": {},
   "source": [
    "#### Next, let's group rows by neighborhood and by taking the mean of the frequency of occurrence of each category"
   ]
  },
  {
   "cell_type": "code",
   "execution_count": null,
   "metadata": {},
   "outputs": [],
   "source": [
    "toronto_grouped = toronto_onehot.groupby('Neighborhood').mean().reset_index()\n",
    "toronto_grouped"
   ]
  },
  {
   "cell_type": "markdown",
   "metadata": {},
   "source": [
    "#### Let's confirm the new size"
   ]
  },
  {
   "cell_type": "code",
   "execution_count": null,
   "metadata": {},
   "outputs": [],
   "source": [
    "toronto_grouped.shape"
   ]
  },
  {
   "cell_type": "markdown",
   "metadata": {},
   "source": [
    "#### Let's print each neighborhood along with the top 5 most common venues"
   ]
  },
  {
   "cell_type": "code",
   "execution_count": null,
   "metadata": {},
   "outputs": [],
   "source": [
    "def return_most_common_venues(row, num_top_venues):\n",
    "    row_categories = row.iloc[1:]\n",
    "    row_categories_sorted = row_categories.sort_values(ascending=False)\n",
    "    \n",
    "    return row_categories_sorted.index.values[0:num_top_venues]"
   ]
  },
  {
   "cell_type": "markdown",
   "metadata": {},
   "source": [
    "Now let's create the new dataframe and display the top 10 venues for each neighborhood."
   ]
  },
  {
   "cell_type": "code",
   "execution_count": null,
   "metadata": {},
   "outputs": [],
   "source": [
    "num_top_venues = 10\n",
    "\n",
    "indicators = ['st', 'nd', 'rd']\n",
    "\n",
    "# create columns according to number of top venues\n",
    "columns = ['Neighborhood']\n",
    "for ind in np.arange(num_top_venues):\n",
    "    try:\n",
    "        columns.append('{}{} Most Common Venue'.format(ind+1, indicators[ind]))\n",
    "    except:\n",
    "        columns.append('{}th Most Common Venue'.format(ind+1))\n",
    "\n",
    "# create a new dataframe\n",
    "neighborhoods_venues_sorted = pd.DataFrame(columns=columns)\n",
    "neighborhoods_venues_sorted['Neighborhood'] = toronto_grouped['Neighborhood']\n",
    "\n",
    "for ind in np.arange(toronto_grouped.shape[0]):\n",
    "    neighborhoods_venues_sorted.iloc[ind, 1:] = return_most_common_venues(toronto_grouped.iloc[ind, :], num_top_venues)\n",
    "\n",
    "neighborhoods_venues_sorted.head()"
   ]
  },
  {
   "cell_type": "markdown",
   "metadata": {},
   "source": [
    "### Cluster Neighborhoods"
   ]
  },
  {
   "cell_type": "markdown",
   "metadata": {},
   "source": [
    "Run k-means to cluster the neighborhood"
   ]
  },
  {
   "cell_type": "code",
   "execution_count": null,
   "metadata": {},
   "outputs": [],
   "source": [
    "# import k-means from clustering stage\n",
    "from sklearn.cluster import KMeans\n",
    "\n",
    "# set number of clusters\n",
    "kclusters = 5\n",
    "\n",
    "toronto_grouped_clustering = toronto_grouped.drop('Neighborhood', 1)\n",
    "\n",
    "# run k-means clustering\n",
    "kmeans = KMeans(n_clusters=kclusters, random_state=0).fit(toronto_grouped_clustering)\n",
    "\n",
    "# check cluster labels generated for each row in the dataframe\n",
    "kmeans.labels_[0:10] "
   ]
  },
  {
   "cell_type": "markdown",
   "metadata": {},
   "source": [
    "Let's create a new dataframe that includes the cluster as well as the top 10 venues for each neighborhood"
   ]
  },
  {
   "cell_type": "code",
   "execution_count": null,
   "metadata": {},
   "outputs": [],
   "source": [
    "# add clustering labels\n",
    "neighborhoods_venues_sorted.insert(0, 'Cluster Labels', kmeans.labels_)\n",
    "\n",
    "toronto_merged = toronto_data\n",
    "\n",
    "# merge toronto_grouped with toronto_data to add latitude/longitude for each neighborhood\n",
    "toronto_merged = toronto_merged.join(neighborhoods_venues_sorted.set_index('Neighborhood'), on='Neighborhood')\n",
    "\n",
    "toronto_merged.head() # check the last columns!"
   ]
  },
  {
   "cell_type": "markdown",
   "metadata": {},
   "source": [
    "Finally, let's visualize the resulting clusters"
   ]
  },
  {
   "cell_type": "code",
   "execution_count": null,
   "metadata": {},
   "outputs": [],
   "source": [
    "# Matplotlib and associated plotting modules\n",
    "import matplotlib.cm as cm\n",
    "import matplotlib.colors as colors\n",
    "\n",
    "# create map\n",
    "map_clusters = folium.Map(location=[latitude, longitude], zoom_start=10)\n",
    "\n",
    "# set color scheme for the clusters\n",
    "x = np.arange(kclusters)\n",
    "ys = [i + x + (i*x)**2 for i in range(kclusters)]\n",
    "colors_array = cm.rainbow(np.linspace(0, 1, len(ys)))\n",
    "rainbow = [colors.rgb2hex(i) for i in colors_array]\n",
    "\n",
    "\n",
    "# add markers to the map\n",
    "markers_colors = []\n",
    "for lat, lon, poi, cluster in zip(toronto_merged['Latitude'], toronto_merged['Longitude'], toronto_merged['Neighborhood'], toronto_merged['Cluster Labels'].fillna(0).astype('int')):\n",
    "    label = folium.Popup(str(poi) + ' Cluster ' + str(cluster), parse_html=True)\n",
    "    folium.CircleMarker(\n",
    "        [lat, lon],\n",
    "        radius=5,\n",
    "        popup=label,\n",
    "        color=rainbow[cluster-1],\n",
    "        fill=True,\n",
    "        fill_color=rainbow[cluster-1],\n",
    "        fill_opacity=0.7).add_to(map_clusters)\n",
    "       \n",
    "map_clusters"
   ]
  }
 ],
 "metadata": {
  "kernelspec": {
   "display_name": "Python 3",
   "language": "python",
   "name": "python3"
  },
  "language_info": {
   "codemirror_mode": {
    "name": "ipython",
    "version": 3
   },
   "file_extension": ".py",
   "mimetype": "text/x-python",
   "name": "python",
   "nbconvert_exporter": "python",
   "pygments_lexer": "ipython3",
   "version": "3.7.6"
  }
 },
 "nbformat": 4,
 "nbformat_minor": 4
}
