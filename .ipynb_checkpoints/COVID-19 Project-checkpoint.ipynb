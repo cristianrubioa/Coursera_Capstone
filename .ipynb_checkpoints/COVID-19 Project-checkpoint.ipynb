{
 "cells": [
  {
   "cell_type": "markdown",
   "metadata": {},
   "source": [
    "# COVID-19 Data Analysis of Tolima-Colombia"
   ]
  },
  {
   "cell_type": "markdown",
   "metadata": {},
   "source": [
    "## A. Introduction\n",
    "\n",
    "### A.1. Description and discussion of the Background\n",
    "\n",
    "Tolima is one of the 32 departments that make up the Colombian territory with a population of more than 1.33 million inhabitants and a surface density of 23,562 square kilometers. The department is divided by 47 municipalities in total, including its respective capital. As a resident of one of its municipalities, I decided to use this department to develop my project and promote regional development.\n",
    "\n",
    "Several municipalities in this department, like many others in Colombian territory and throughout the planet, have been affected by the presence of what we call COVID-19 and, although it is a hot topic, there is not enough information to support and / or show The status of the data. We have official sources of information such as the INS (National Institute of Health) but without spatial or positional samples that clearly communicate the data at least in the smallest branches of the Colombian state (territorially speaking), and at the same time impartially share representation of the data.\n",
    "\n",
    "When these problems are considered, we can think of creating contagion maps, distribution charts, even regressions, and all kinds of visually clear and descriptive information that exposes the data.\n",
    "\n",
    "### A.2. Data Description\n",
    "To consider the problem, we can list the data as follows:\n",
    "* The **INS** (National Institute of Health) is in charge of providing the necessary data on COVID-19 for Colombia.\n",
    "* With **Forsquare API** the geographic positions of the Tolima municipalities will be obtained.\n",
    "* Libraries such as **Geopandas** and **Folium** will be used to obtain the maps.\n",
    "* Each municipality has a related code divipola that will be used to mediate between the data of the INS and the information of the **DANE** (National Administrative Department of Statistics) to collect information and geographic maps to complement or replace the previous points."
   ]
  },
  {
   "cell_type": "code",
   "execution_count": null,
   "metadata": {},
   "outputs": [],
   "source": []
  }
 ],
 "metadata": {
  "kernelspec": {
   "display_name": "Python 3",
   "language": "python",
   "name": "python3"
  },
  "language_info": {
   "codemirror_mode": {
    "name": "ipython",
    "version": 3
   },
   "file_extension": ".py",
   "mimetype": "text/x-python",
   "name": "python",
   "nbconvert_exporter": "python",
   "pygments_lexer": "ipython3",
   "version": "3.7.6"
  }
 },
 "nbformat": 4,
 "nbformat_minor": 4
}
